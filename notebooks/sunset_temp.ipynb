{
 "cells": [
  {
   "cell_type": "code",
   "execution_count": 1,
   "metadata": {},
   "outputs": [
    {
     "name": "stderr",
     "output_type": "stream",
     "text": [
      "WARNING: AstropyDeprecationWarning: astropy.extern.six will be removed in 4.0, use the six module directly if it is still needed [astropy.extern.six]\n"
     ]
    }
   ],
   "source": [
    "from datetime import datetime\n",
    "\n",
    "import time\n",
    "import os\n",
    "import sys\n",
    "from pathlib import Path\n",
    "\n",
    "import numpy as np\n",
    "from scipy.stats import lognorm\n",
    "import pandas as pd\n",
    "\n",
    "from astropy import stats\n",
    "from astropy.io import fits\n",
    "from astropy.coordinates import EarthLocation\n",
    "from astropy.time import Time\n",
    "from astropy.utils import iers\n",
    "import astropy.units as u\n",
    "import astroplan\n",
    "\n",
    "import matplotlib\n",
    "#matplotlib.use('nbagg')\n",
    "from matplotlib import style\n",
    "style.use('ggplot')\n",
    "import matplotlib.pyplot as plt\n",
    "from mpl_toolkits.mplot3d import Axes3D"
   ]
  },
  {
   "cell_type": "code",
   "execution_count": 2,
   "metadata": {},
   "outputs": [],
   "source": [
    "%load_ext autoreload\n",
    "%autoreload 2\n",
    "%matplotlib widget"
   ]
  },
  {
   "cell_type": "code",
   "execution_count": 3,
   "metadata": {},
   "outputs": [],
   "source": [
    "iers.IERS_A_URL = 'ftp://cddis.gsfc.nasa.gov/pub/products/iers/finals2000A.all'\n",
    "astroplan.download_IERS_A()"
   ]
  },
  {
   "cell_type": "code",
   "execution_count": 4,
   "metadata": {},
   "outputs": [
    {
     "name": "stdout",
     "output_type": "stream",
     "text": [
      "/home/halcoll/halcoll/halcoll/data\n"
     ]
    }
   ],
   "source": [
    "%cd /home/halcoll/halcoll/halcoll/data"
   ]
  },
  {
   "cell_type": "code",
   "execution_count": 5,
   "metadata": {},
   "outputs": [],
   "source": [
    "years = []\n",
    "for y in [2016, 2017, 2018, 2019]:\n",
    "    years.append(pd.read_csv(f\"{y}_e_series_trimmed.csv\"))\n",
    "temp_data = pd.concat(years, sort=True)"
   ]
  },
  {
   "cell_type": "code",
   "execution_count": 33,
   "metadata": {},
   "outputs": [
    {
     "data": {
      "text/plain": [
       "'2019-11-16T00:24:21.756'"
      ]
     },
     "execution_count": 33,
     "metadata": {},
     "output_type": "execute_result"
    }
   ],
   "source": [
    "lat = \"31:41:19.6\"\n",
    "lon = \"-110:53:04.4\"\n",
    "elevation = 2600 * u.m\n",
    "location = EarthLocation.from_geodetic(lon, lat, elevation)\n",
    "mmt = astroplan.Observer(name=\"MMTO\", location=location, timezone=\"US/Arizona\", pressure=0*u.mbar)\n",
    "tset = mmt.sun_set_time(Time(datetime.now()), which='next', horizon=-0.8333*u.deg)\n",
    "tset.isot"
   ]
  },
  {
   "cell_type": "code",
   "execution_count": 9,
   "metadata": {},
   "outputs": [
    {
     "name": "stderr",
     "output_type": "stream",
     "text": [
      "[#################################] 100% deltat.data\n",
      "[#################################] 100% deltat.preds\n",
      "[#################################] 100% Leap_Second.dat\n",
      "[#################################] 100% de421.bsp\n"
     ]
    }
   ],
   "source": [
    "from skyfield import api\n",
    "ts = api.load.timescale()\n",
    "e = api.load('de421.bsp')\n",
    "from skyfield import almanac"
   ]
  },
  {
   "cell_type": "code",
   "execution_count": 29,
   "metadata": {},
   "outputs": [],
   "source": [
    "mmt_sf = api.Topos(latitude_degrees=location.lat.value, longitude_degrees=location.lon.value, elevation_m=2600.0)"
   ]
  },
  {
   "cell_type": "code",
   "execution_count": 34,
   "metadata": {},
   "outputs": [
    {
     "name": "stdout",
     "output_type": "stream",
     "text": [
      "['2019-11-16T00:24:23Z', '2019-11-16T13:52:25Z', '2019-11-17T00:23:52Z', '2019-11-17T13:53:17Z', '2019-11-18T00:23:23Z', '2019-11-18T13:54:10Z', '2019-11-19T00:22:55Z', '2019-11-19T13:55:02Z', '2019-11-20T00:22:29Z', '2019-11-20T13:55:55Z', '2019-11-21T00:22:05Z', '2019-11-21T13:56:47Z', '2019-11-22T00:21:43Z', '2019-11-22T13:57:40Z', '2019-11-23T00:21:22Z', '2019-11-23T13:58:32Z', '2019-11-24T00:21:03Z', '2019-11-24T13:59:24Z', '2019-11-25T00:20:46Z', '2019-11-25T14:00:16Z', '2019-11-26T00:20:30Z', '2019-11-26T14:01:08Z']\n",
      "[False  True False  True False  True False  True False  True False  True\n",
      " False  True False  True False  True False  True False  True]\n"
     ]
    }
   ],
   "source": [
    "t0 = ts.utc(2019, 11, 15, 23)\n",
    "t1 = ts.utc(2019, 11, 26, 23)\n",
    "t, y = almanac.find_discrete(t0, t1, almanac.sunrise_sunset(e, mmt_sf))\n",
    "print(t.utc_iso())\n",
    "print(y)"
   ]
  },
  {
   "cell_type": "code",
   "execution_count": 35,
   "metadata": {},
   "outputs": [
    {
     "data": {
      "text/plain": [
       "\u001b[0;31mSignature:\u001b[0m\n",
       "\u001b[0malmanac\u001b[0m\u001b[0;34m.\u001b[0m\u001b[0mfind_discrete\u001b[0m\u001b[0;34m(\u001b[0m\u001b[0;34m\u001b[0m\n",
       "\u001b[0;34m\u001b[0m    \u001b[0mstart_time\u001b[0m\u001b[0;34m,\u001b[0m\u001b[0;34m\u001b[0m\n",
       "\u001b[0;34m\u001b[0m    \u001b[0mend_time\u001b[0m\u001b[0;34m,\u001b[0m\u001b[0;34m\u001b[0m\n",
       "\u001b[0;34m\u001b[0m    \u001b[0mf\u001b[0m\u001b[0;34m,\u001b[0m\u001b[0;34m\u001b[0m\n",
       "\u001b[0;34m\u001b[0m    \u001b[0mepsilon\u001b[0m\u001b[0;34m=\u001b[0m\u001b[0;36m1.1574074074074074e-08\u001b[0m\u001b[0;34m,\u001b[0m\u001b[0;34m\u001b[0m\n",
       "\u001b[0;34m\u001b[0m    \u001b[0mnum\u001b[0m\u001b[0;34m=\u001b[0m\u001b[0;36m12\u001b[0m\u001b[0;34m,\u001b[0m\u001b[0;34m\u001b[0m\n",
       "\u001b[0;34m\u001b[0m\u001b[0;34m)\u001b[0m\u001b[0;34m\u001b[0m\u001b[0;34m\u001b[0m\u001b[0m\n",
       "\u001b[0;31mDocstring:\u001b[0m\n",
       "Find the times when a function changes value.\n",
       "\n",
       "Searches between ``start_time`` and ``end_time``, which should both\n",
       "be :class:`~skyfield.timelib.Time` objects, for the occasions where\n",
       "the function ``f`` changes from one value to another.  Use this to\n",
       "search for events like sunrise or moon phases.\n",
       "\n",
       "A tuple of two arrays is returned. The first array gives the times\n",
       "at which the input function changes, and the second array specifies\n",
       "the new value of the function at each corresponding time.\n",
       "\n",
       "This is an expensive operation as it needs to repeatedly call the\n",
       "function to narrow down the times that it changes.  It continues\n",
       "searching until it knows each time to at least an accuracy of\n",
       "``epsilon`` Julian days.  At each step, it creates an array of\n",
       "``num`` new points between the lower and upper bound that it has\n",
       "established for each transition.  These two values can be changed to\n",
       "tune the behavior of the search.\n",
       "\u001b[0;31mFile:\u001b[0m      /opt/conda/lib/python3.7/site-packages/skyfield/almanac.py\n",
       "\u001b[0;31mType:\u001b[0m      function\n"
      ]
     },
     "metadata": {},
     "output_type": "display_data"
    }
   ],
   "source": [
    "almanac.find_discrete?"
   ]
  },
  {
   "cell_type": "code",
   "execution_count": 37,
   "metadata": {},
   "outputs": [
    {
     "data": {
      "text/plain": [
       "array([False,  True, False,  True, False,  True, False,  True, False,\n",
       "        True, False,  True, False,  True, False,  True, False,  True,\n",
       "       False,  True, False,  True])"
      ]
     },
     "execution_count": 37,
     "metadata": {},
     "output_type": "execute_result"
    }
   ],
   "source": [
    "y"
   ]
  },
  {
   "cell_type": "code",
   "execution_count": null,
   "metadata": {},
   "outputs": [],
   "source": []
  }
 ],
 "metadata": {
  "kernelspec": {
   "display_name": "Python 3",
   "language": "python",
   "name": "python3"
  },
  "language_info": {
   "codemirror_mode": {
    "name": "ipython",
    "version": 3
   },
   "file_extension": ".py",
   "mimetype": "text/x-python",
   "name": "python",
   "nbconvert_exporter": "python",
   "pygments_lexer": "ipython3",
   "version": "3.7.5"
  }
 },
 "nbformat": 4,
 "nbformat_minor": 4
}
