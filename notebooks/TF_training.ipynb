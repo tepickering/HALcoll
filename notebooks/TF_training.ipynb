{
 "cells": [
  {
   "cell_type": "code",
   "execution_count": 1,
   "metadata": {},
   "outputs": [
    {
     "name": "stdout",
     "output_type": "stream",
     "text": [
      "1.14.0\n"
     ]
    }
   ],
   "source": [
    "from datetime import datetime\n",
    "\n",
    "import time\n",
    "import os\n",
    "import sys\n",
    "import itertools\n",
    "from pathlib import Path\n",
    "\n",
    "import numpy as np\n",
    "from scipy.stats import lognorm\n",
    "import pandas as pd\n",
    "\n",
    "from astropy import stats\n",
    "from astropy.io import fits\n",
    "from astropy.time import Time\n",
    "import astropy.units as u\n",
    "\n",
    "import matplotlib\n",
    "#matplotlib.use('nbagg')\n",
    "import matplotlib.pyplot as plt\n",
    "from mpl_toolkits.mplot3d import Axes3D\n",
    "\n",
    "import seaborn as sns\n",
    "import tensorflow as tf\n",
    "from tensorflow import keras\n",
    "from tensorflow.keras import layers\n",
    "\n",
    "config = tf.ConfigProto(\n",
    "    intra_op_parallelism_threads=8,\n",
    "    inter_op_parallelism_threads=8,\n",
    "    log_device_placement=True\n",
    ")\n",
    "sess = tf.Session(config=config)\n",
    "\n",
    "np.random.seed(42)\n",
    "\n",
    "print(tf.__version__)"
   ]
  },
  {
   "cell_type": "code",
   "execution_count": 2,
   "metadata": {},
   "outputs": [],
   "source": [
    "%load_ext autoreload\n",
    "%autoreload 2\n",
    "%matplotlib widget"
   ]
  },
  {
   "cell_type": "code",
   "execution_count": 3,
   "metadata": {},
   "outputs": [],
   "source": [
    "def plot_history(history, label=None):\n",
    "    hist = pd.DataFrame(history.history)\n",
    "    hist['epoch'] = history.epoch\n",
    "\n",
    "    plt.figure()\n",
    "    plt.xlabel('Epoch')\n",
    "    plt.ylabel('Mean Abs Error')\n",
    "    plt.plot(hist['epoch'], hist['mean_absolute_error'],\n",
    "           label='Train Error')\n",
    "    plt.plot(hist['epoch'], hist['val_mean_absolute_error'],\n",
    "           label = 'Val Error')\n",
    "    plt.legend()\n",
    "    if label is not None:\n",
    "        plt.title(label)\n",
    "\n",
    "    plt.figure()\n",
    "    plt.xlabel('Epoch')\n",
    "    plt.ylabel('Mean Square Error')\n",
    "    plt.plot(hist['epoch'], hist['mean_squared_error'],\n",
    "           label='Train Error')\n",
    "    plt.plot(hist['epoch'], hist['val_mean_squared_error'],\n",
    "           label = 'Val Error')\n",
    "    plt.legend()\n",
    "    if label is not None:\n",
    "        plt.title(label)\n",
    "    plt.savefig(f\"{label}_train.pdf\")\n",
    "    plt.show()\n",
    "\n",
    "def build_model(width=32, shape=1, nlayers=1, tolerance=0.001):\n",
    "    nn_layers = [layers.Dense(width, activation=tf.nn.relu, input_shape=[shape])]  # input_shape=[len(train_dataset.keys())])]\n",
    "\n",
    "    if nlayers > 0:\n",
    "        for i in range(nlayers-1):\n",
    "            nn_layers.append(layers.Dense(width, activation=tf.nn.relu))\n",
    "    \n",
    "    nn_layers.append(layers.Dense(1))\n",
    "    model = keras.Sequential(nn_layers)\n",
    "    optimizer = tf.keras.optimizers.RMSprop(tolerance)\n",
    "\n",
    "    model.compile(\n",
    "        loss='mean_squared_error',\n",
    "        optimizer=optimizer,\n",
    "        metrics=['mean_absolute_error', 'mean_squared_error']\n",
    "    )\n",
    "    return model\n",
    "\n",
    "def load_wfs_data(files=[f\"../raw_data/2018_2019_wfs_loose.csv\"]):\n",
    "    # load data and make some subsets for each wfs for inspection later\n",
    "    dfs = []\n",
    "    for f in files:\n",
    "        dfs.append(pd.read_csv(f))\n",
    "    data = pd.concat(dfs)\n",
    "    data['ut'] = pd.to_datetime(data.ut)\n",
    "    data['az'][data['az'] < 0.] += 360.\n",
    "\n",
    "    f9 = data[(data['wfs'] == 'newf9') | (data['wfs'] == 'oldf9')]\n",
    "    f5 = data[data['wfs'] == 'f5']\n",
    "    mmirs = data[data['wfs'] == 'mmirs']\n",
    "    bino = data[data['wfs'] == 'binospec']\n",
    "\n",
    "    # wrangle the times to add colums for mjd to look for trends over time and hour to look for nightly trends\n",
    "    raw_times = data['time']\n",
    "    times = Time(raw_times.values.tolist(), format='isot', scale='utc')\n",
    "    mjd = times.mjd\n",
    "    data['mjd'] = mjd.tolist()\n",
    "    data['hour'] = data['ut'].dt.hour\n",
    "\n",
    "    e_series = pd.read_csv(\"../halcoll/data/halcoll_temps.csv\")\n",
    "\n",
    "    fixed = data.drop(columns=['ut']).set_index(pd.DatetimeIndex(data['time'], name='ut'))\n",
    "\n",
    "    e_series = e_series.set_index(pd.DatetimeIndex(e_series['ts'], name='ut').tz_localize('MST').tz_convert(None)).drop(columns=['ts'])\n",
    "\n",
    "    merged = pd.merge_asof(fixed.sort_index(), e_series, on='ut')\n",
    "\n",
    "    # trim out columns not relevant to training\n",
    "    dropped_cols = [\n",
    "        'ut', 'time', 'airmass', 'cc_x_err', 'cc_y_err', 'chamt', 'osst',\n",
    "        'outt', 'exptime', 'file', 'focerr', 'fwhm', 'raw_seeing', 'residual_rms',\n",
    "        'seeing', 'wavefront_rms', 'xcen', 'ycen', 'comaerr'\n",
    "    ]\n",
    "    trimmed = merged.drop(columns=dropped_cols)\n",
    "    trimmed = trimmed.dropna()\n",
    "    return trimmed\n",
    "\n",
    "def norm_dataset(x, s):\n",
    "    return (x - s['mean']) / s['std']"
   ]
  },
  {
   "cell_type": "code",
   "execution_count": 36,
   "metadata": {},
   "outputs": [
    {
     "name": "stderr",
     "output_type": "stream",
     "text": [
      "/usr/local/lib/python3.7/site-packages/ipykernel_launcher.py:54: SettingWithCopyWarning: \n",
      "A value is trying to be set on a copy of a slice from a DataFrame\n",
      "\n",
      "See the caveats in the documentation: http://pandas.pydata.org/pandas-docs/stable/user_guide/indexing.html#returning-a-view-versus-a-copy\n",
      "/usr/local/lib/python3.7/site-packages/ipykernel_launcher.py:25: SettingWithCopyWarning: \n",
      "A value is trying to be set on a copy of a slice from a DataFrame.\n",
      "Try using .loc[row_indexer,col_indexer] = value instead\n",
      "\n",
      "See the caveats in the documentation: http://pandas.pydata.org/pandas-docs/stable/user_guide/indexing.html#returning-a-view-versus-a-copy\n"
     ]
    }
   ],
   "source": [
    "labels = ['focus', 'tiltx', 'tilty', 'transx', 'transy']\n",
    "trimmed = load_wfs_data(files=[\"../raw_data/2017_wfs.csv\", \"../raw_data/2018_2019_wfs_loose.csv\"])\n",
    "\n",
    "# split data set up into three training sets: f9, mmirs, and f5/bino. these sets correspond to the three optical configurations\n",
    "# we use: f/9 and no corrector, f/5 with no corrector (mmirs), and f/5 with spectroscopic corrector (f5/bino).\n",
    "datasets = {}\n",
    "wfs = trimmed.pop('wfs')\n",
    "datasets['f9'] = trimmed[(wfs == 'newf9') | (wfs == 'oldf9')]\n",
    "datasets['mmirs'] = trimmed[wfs == 'mmirs']\n",
    "datasets['f5'] = trimmed[(wfs == 'f5') | (wfs == 'binospec')]\n",
    "\n",
    "# the large range in offsets is messing up the training. so normalize the hexapod coords to their means\n",
    "means = {}\n",
    "train_datasets = {}\n",
    "test_datasets = {}\n",
    "train_labels = {}\n",
    "test_labels = {}\n",
    "train_stats = {}\n",
    "normed_train_data = {}\n",
    "normed_test_data = {}\n",
    "for w in datasets:\n",
    "    means[w] = {}\n",
    "    for l in labels:\n",
    "        means[w][l] = datasets[w][l].mean()\n",
    "        datasets[w][l] -= means[w][l]\n",
    "\n",
    "    #train_datasets[w] = datasets[w].sample(frac=0.75, random_state=0)\n",
    "    train_datasets[w] = datasets[w][datasets[w]['mjd'] < 58484.]\n",
    "    test_datasets[w] = datasets[w].drop(train_datasets[w].index)\n",
    "    train_stats[w] = train_datasets[w].describe()\n",
    "    train_stats[w] = train_stats[w].drop(columns=labels)\n",
    "    train_stats[w] = train_stats[w].transpose()\n",
    "    \n",
    "    train_labels[w] = {}\n",
    "    test_labels[w] = {}\n",
    "    for l in labels:\n",
    "        train_labels[w][l] = train_datasets[w].pop(l)\n",
    "        test_labels[w][l] = test_datasets[w].pop(l)\n",
    "        \n",
    "    normed_train_data[w] = norm_dataset(train_datasets[w], train_stats[w])\n",
    "    normed_test_data[w] = norm_dataset(test_datasets[w], train_stats[w])"
   ]
  },
  {
   "cell_type": "code",
   "execution_count": 37,
   "metadata": {},
   "outputs": [],
   "source": [
    "models = {}\n",
    "mod_config = {\n",
    "    \"f9\": {\n",
    "        'width': 8,\n",
    "        'nlayers': 2\n",
    "    },\n",
    "    \"f5\": {\n",
    "        'width': 64,\n",
    "        'nlayers': 2\n",
    "    },\n",
    "    'mmirs': {\n",
    "        'width': 64,\n",
    "        'nlayers': 2\n",
    "    }\n",
    "}\n",
    "\n",
    "for w in datasets:\n",
    "    models[w] = {}\n",
    "    for l in labels:\n",
    "        models[w][l] = build_model(\n",
    "            width=mod_config[w]['width'],\n",
    "            shape=len(train_datasets[w].keys()),\n",
    "            nlayers=mod_config[w]['nlayers']\n",
    "        )\n",
    "\n",
    "# The patience parameter is the amount of epochs to check for improvement\n",
    "early_stop = keras.callbacks.EarlyStopping(monitor='val_loss', patience=100)"
   ]
  },
  {
   "cell_type": "code",
   "execution_count": 38,
   "metadata": {},
   "outputs": [
    {
     "name": "stdout",
     "output_type": "stream",
     "text": [
      "Model: \"sequential_65\"\n",
      "_________________________________________________________________\n",
      "Layer (type)                 Output Shape              Param #   \n",
      "=================================================================\n",
      "dense_205 (Dense)            (None, 64)                1280      \n",
      "_________________________________________________________________\n",
      "dense_206 (Dense)            (None, 64)                4160      \n",
      "_________________________________________________________________\n",
      "dense_207 (Dense)            (None, 1)                 65        \n",
      "=================================================================\n",
      "Total params: 5,505\n",
      "Trainable params: 5,505\n",
      "Non-trainable params: 0\n",
      "_________________________________________________________________\n"
     ]
    }
   ],
   "source": [
    "sel_wfs = 'mmirs'\n",
    "models[sel_wfs]['focus'].summary()"
   ]
  },
  {
   "cell_type": "code",
   "execution_count": 39,
   "metadata": {},
   "outputs": [
    {
     "name": "stdout",
     "output_type": "stream",
     "text": [
      "Training focus model....\n",
      "\n",
      "....................................................................................................\n",
      "........................................................\n",
      "\n",
      "Training tiltx model....\n",
      "\n",
      "....................................................................................................\n",
      ".\n",
      "\n",
      "Training tilty model....\n",
      "\n",
      "....................................................................................................\n",
      ".\n",
      "\n",
      "Training transx model....\n",
      "\n",
      "....................................................................................................\n",
      "..\n",
      "\n",
      "Training transy model....\n",
      "\n",
      "....................................................................................................\n",
      "..\n",
      "\n"
     ]
    }
   ],
   "source": [
    "# Display training progress by printing a single dot for each completed epoch\n",
    "class PrintDot(keras.callbacks.Callback):\n",
    "    def on_epoch_end(self, epoch, logs):\n",
    "        if epoch % 100 == 0: \n",
    "            print('')\n",
    "        print('.', end='')\n",
    "\n",
    "EPOCHS = 4000\n",
    "\n",
    "histories = {}\n",
    "\n",
    "for l in labels:\n",
    "    print(f\"Training {l} model....\")\n",
    "    histories[l] = models[sel_wfs][l].fit(\n",
    "        normed_train_data[sel_wfs], train_labels[sel_wfs][l],\n",
    "        epochs=EPOCHS, validation_split = 0.2, verbose=0,\n",
    "        callbacks=[early_stop, PrintDot()]\n",
    "    )\n",
    "    print(\"\\n\")"
   ]
  },
  {
   "cell_type": "code",
   "execution_count": 10,
   "metadata": {},
   "outputs": [],
   "source": [
    "for l in labels:\n",
    "    models[sel_wfs][l].save(f\"../halcoll/data/{sel_wfs}_{l}_train_from_2017_2018_loose_16x16_model.h5\")"
   ]
  },
  {
   "cell_type": "code",
   "execution_count": 40,
   "metadata": {},
   "outputs": [
    {
     "data": {
      "application/vnd.jupyter.widget-view+json": {
       "model_id": "cedb455a64e146668ac9cecf608928c4",
       "version_major": 2,
       "version_minor": 0
      },
      "text/plain": [
       "Canvas(toolbar=Toolbar(toolitems=[('Home', 'Reset original view', 'home', 'home'), ('Back', 'Back to previous …"
      ]
     },
     "metadata": {},
     "output_type": "display_data"
    },
    {
     "data": {
      "application/vnd.jupyter.widget-view+json": {
       "model_id": "6301dd2ca2fe48b39d29e9fa0f65c89f",
       "version_major": 2,
       "version_minor": 0
      },
      "text/plain": [
       "Canvas(toolbar=Toolbar(toolitems=[('Home', 'Reset original view', 'home', 'home'), ('Back', 'Back to previous …"
      ]
     },
     "metadata": {},
     "output_type": "display_data"
    }
   ],
   "source": [
    "plot_history(histories['focus'], label=\"focus\")"
   ]
  },
  {
   "cell_type": "code",
   "execution_count": 41,
   "metadata": {},
   "outputs": [],
   "source": [
    "def show_results(wfs, label):\n",
    "    loss, mae, mse = models[wfs][label].evaluate(normed_test_data[wfs], test_labels[wfs][label], verbose=0)\n",
    "\n",
    "    print(\"Testing set Mean Abs Error: {:5.2f} um\".format(mae))\n",
    "    print(\"Testing set RMS: {:5.2f} um\".format(np.sqrt(mse)))\n",
    "\n",
    "    test_predictions = models[wfs][label].predict(normed_test_data[wfs]).flatten()\n",
    "\n",
    "    plt.figure()\n",
    "    plt.scatter(test_labels[wfs][label], test_labels[wfs][label] - test_predictions)\n",
    "    plt.xlabel('True Values [um]')\n",
    "    plt.ylabel('Residuals [um]')\n",
    "    minx, maxx = min(test_labels[wfs][label]), max(test_labels[wfs][label])\n",
    "    plt.plot([minx, maxx], [0, 0])\n",
    "    plt.show()"
   ]
  },
  {
   "cell_type": "code",
   "execution_count": 42,
   "metadata": {},
   "outputs": [
    {
     "name": "stdout",
     "output_type": "stream",
     "text": [
      "Testing set Mean Abs Error: 315.99 um\n",
      "Testing set RMS: 344.45 um\n"
     ]
    },
    {
     "data": {
      "application/vnd.jupyter.widget-view+json": {
       "model_id": "5ddec9354c1d42e1a1fc815797619500",
       "version_major": 2,
       "version_minor": 0
      },
      "text/plain": [
       "Canvas(toolbar=Toolbar(toolitems=[('Home', 'Reset original view', 'home', 'home'), ('Back', 'Back to previous …"
      ]
     },
     "metadata": {},
     "output_type": "display_data"
    }
   ],
   "source": [
    "show_results(sel_wfs, 'focus')"
   ]
  },
  {
   "cell_type": "code",
   "execution_count": 60,
   "metadata": {},
   "outputs": [
    {
     "data": {
      "text/plain": [
       "(3040, 711)"
      ]
     },
     "execution_count": 60,
     "metadata": {},
     "output_type": "execute_result"
    }
   ],
   "source": [
    "lab = 'focus'\n",
    "test_predictions = models[sel_wfs][lab].predict(normed_test_data['f9']).flatten()\n",
    "diff = test_labels[sel_wfs][lab] - test_predictions\n",
    "diff.idxmax(), diff.idxmin()"
   ]
  },
  {
   "cell_type": "code",
   "execution_count": null,
   "metadata": {},
   "outputs": [],
   "source": [
    "test_labels[sel_wfs][lab].idxmin()"
   ]
  },
  {
   "cell_type": "code",
   "execution_count": 61,
   "metadata": {},
   "outputs": [
    {
     "data": {
      "text/plain": [
       "az                                        74.510000\n",
       "el                                        36.940000\n",
       "mjd                                    57780.184664\n",
       "hour                                       4.000000\n",
       "cell_e_series_backplate_C                  7.614150\n",
       "cell_e_series_chamber_ambient_C           -1.385100\n",
       "cell_e_series_frontplate_C                 6.334500\n",
       "cell_e_series_in_front_of_primary_C        1.170600\n",
       "cell_e_series_lower_plenum_C               7.882300\n",
       "cell_e_series_midplate_C                   7.585700\n",
       "cell_e_series_outside_ambient_C           -2.670350\n",
       "yankee_temperature                        -2.294000\n",
       "temptrax1_probe2                          -2.200000\n",
       "temptrax1_probe3                          -1.800000\n",
       "temptrax1_probe4                          -1.700000\n",
       "temptrax1_probe6                          -1.900000\n",
       "temptrax3_probe10                         -2.600000\n",
       "temptrax3_probe11                         -2.300000\n",
       "temptrax3_probe12                         -2.000000\n",
       "Name: 711, dtype: float64"
      ]
     },
     "execution_count": 61,
     "metadata": {},
     "output_type": "execute_result"
    }
   ],
   "source": [
    "test_datasets[sel_wfs].loc[711]"
   ]
  },
  {
   "cell_type": "code",
   "execution_count": null,
   "metadata": {},
   "outputs": [],
   "source": [
    "chk_data = normed_test_data[normed_test_data[sel_wfs] > 0]\n",
    "#chk.index\n",
    "chk_test = test_labels['focus'][chk_data.index] \n",
    "chk_pred = models['focus'].predict(chk_data).flatten()\n",
    "chk_diff = chk_test - chk_pred\n",
    "chk_diff.std()"
   ]
  },
  {
   "cell_type": "code",
   "execution_count": null,
   "metadata": {},
   "outputs": [],
   "source": [
    "m = keras.models.load_model(\"/Users/tim/MMT/HALcoll/halcoll/data/tiltx_model.h5\")"
   ]
  },
  {
   "cell_type": "code",
   "execution_count": null,
   "metadata": {},
   "outputs": [],
   "source": [
    "m.evaluate(normed_test_data, test_labels['tiltx'])"
   ]
  },
  {
   "cell_type": "code",
   "execution_count": null,
   "metadata": {},
   "outputs": [],
   "source": [
    "ttt = train_dataset['cell_e_series_chamber_ambient_C'] - train_dataset['yankee_temperature']\n",
    "ttt.min()"
   ]
  },
  {
   "cell_type": "code",
   "execution_count": 14,
   "metadata": {},
   "outputs": [
    {
     "data": {
      "text/plain": [
       "42047"
      ]
     },
     "execution_count": 14,
     "metadata": {},
     "output_type": "execute_result"
    }
   ],
   "source": [
    "len(trimmed)"
   ]
  },
  {
   "cell_type": "code",
   "execution_count": 11,
   "metadata": {},
   "outputs": [
    {
     "data": {
      "text/html": [
       "<div>\n",
       "<style scoped>\n",
       "    .dataframe tbody tr th:only-of-type {\n",
       "        vertical-align: middle;\n",
       "    }\n",
       "\n",
       "    .dataframe tbody tr th {\n",
       "        vertical-align: top;\n",
       "    }\n",
       "\n",
       "    .dataframe thead th {\n",
       "        text-align: right;\n",
       "    }\n",
       "</style>\n",
       "<table border=\"1\" class=\"dataframe\">\n",
       "  <thead>\n",
       "    <tr style=\"text-align: right;\">\n",
       "      <th></th>\n",
       "      <th>az</th>\n",
       "      <th>el</th>\n",
       "      <th>focus</th>\n",
       "      <th>tiltx</th>\n",
       "      <th>tilty</th>\n",
       "      <th>transx</th>\n",
       "      <th>transy</th>\n",
       "      <th>mjd</th>\n",
       "      <th>hour</th>\n",
       "      <th>cell_e_series_backplate_C</th>\n",
       "      <th>...</th>\n",
       "      <th>cell_e_series_midplate_C</th>\n",
       "      <th>cell_e_series_outside_ambient_C</th>\n",
       "      <th>yankee_temperature</th>\n",
       "      <th>temptrax1_probe2</th>\n",
       "      <th>temptrax1_probe3</th>\n",
       "      <th>temptrax1_probe4</th>\n",
       "      <th>temptrax1_probe6</th>\n",
       "      <th>temptrax3_probe10</th>\n",
       "      <th>temptrax3_probe11</th>\n",
       "      <th>temptrax3_probe12</th>\n",
       "    </tr>\n",
       "  </thead>\n",
       "  <tbody>\n",
       "    <tr>\n",
       "      <td>36461</td>\n",
       "      <td>276.000213</td>\n",
       "      <td>59.400210</td>\n",
       "      <td>-966.852965</td>\n",
       "      <td>-21.421051</td>\n",
       "      <td>22.9531</td>\n",
       "      <td>-19.021927</td>\n",
       "      <td>-124.842291</td>\n",
       "      <td>58645.239423</td>\n",
       "      <td>5</td>\n",
       "      <td>15.8284</td>\n",
       "      <td>...</td>\n",
       "      <td>15.67530</td>\n",
       "      <td>14.01390</td>\n",
       "      <td>15.2530</td>\n",
       "      <td>22.1</td>\n",
       "      <td>21.1</td>\n",
       "      <td>19.2</td>\n",
       "      <td>16.8</td>\n",
       "      <td>20.8</td>\n",
       "      <td>20.8</td>\n",
       "      <td>19.1</td>\n",
       "    </tr>\n",
       "    <tr>\n",
       "      <td>36462</td>\n",
       "      <td>279.203715</td>\n",
       "      <td>50.477263</td>\n",
       "      <td>-737.762965</td>\n",
       "      <td>32.278949</td>\n",
       "      <td>45.8131</td>\n",
       "      <td>239.398073</td>\n",
       "      <td>160.857709</td>\n",
       "      <td>58645.268485</td>\n",
       "      <td>6</td>\n",
       "      <td>15.2279</td>\n",
       "      <td>...</td>\n",
       "      <td>15.04230</td>\n",
       "      <td>14.00340</td>\n",
       "      <td>13.9670</td>\n",
       "      <td>18.7</td>\n",
       "      <td>18.2</td>\n",
       "      <td>17.2</td>\n",
       "      <td>14.4</td>\n",
       "      <td>16.6</td>\n",
       "      <td>16.3</td>\n",
       "      <td>16.7</td>\n",
       "    </tr>\n",
       "    <tr>\n",
       "      <td>36463</td>\n",
       "      <td>279.412337</td>\n",
       "      <td>49.998156</td>\n",
       "      <td>-711.442965</td>\n",
       "      <td>24.378949</td>\n",
       "      <td>51.8131</td>\n",
       "      <td>173.108073</td>\n",
       "      <td>143.697709</td>\n",
       "      <td>58645.270065</td>\n",
       "      <td>6</td>\n",
       "      <td>15.2279</td>\n",
       "      <td>...</td>\n",
       "      <td>15.04230</td>\n",
       "      <td>14.00340</td>\n",
       "      <td>13.9670</td>\n",
       "      <td>18.7</td>\n",
       "      <td>18.2</td>\n",
       "      <td>17.2</td>\n",
       "      <td>14.4</td>\n",
       "      <td>16.6</td>\n",
       "      <td>16.3</td>\n",
       "      <td>16.7</td>\n",
       "    </tr>\n",
       "    <tr>\n",
       "      <td>36464</td>\n",
       "      <td>279.625336</td>\n",
       "      <td>49.507966</td>\n",
       "      <td>-697.182965</td>\n",
       "      <td>23.138949</td>\n",
       "      <td>55.6931</td>\n",
       "      <td>132.428073</td>\n",
       "      <td>138.737709</td>\n",
       "      <td>58645.271671</td>\n",
       "      <td>6</td>\n",
       "      <td>15.1778</td>\n",
       "      <td>...</td>\n",
       "      <td>15.00140</td>\n",
       "      <td>14.04410</td>\n",
       "      <td>14.0725</td>\n",
       "      <td>18.3</td>\n",
       "      <td>18.0</td>\n",
       "      <td>17.1</td>\n",
       "      <td>14.3</td>\n",
       "      <td>16.3</td>\n",
       "      <td>16.2</td>\n",
       "      <td>16.6</td>\n",
       "    </tr>\n",
       "    <tr>\n",
       "      <td>36465</td>\n",
       "      <td>276.988371</td>\n",
       "      <td>76.555189</td>\n",
       "      <td>-343.372965</td>\n",
       "      <td>-15.531051</td>\n",
       "      <td>-3.6869</td>\n",
       "      <td>509.338073</td>\n",
       "      <td>-408.702291</td>\n",
       "      <td>58645.360822</td>\n",
       "      <td>8</td>\n",
       "      <td>14.7583</td>\n",
       "      <td>...</td>\n",
       "      <td>14.81685</td>\n",
       "      <td>15.56545</td>\n",
       "      <td>15.2990</td>\n",
       "      <td>14.8</td>\n",
       "      <td>15.4</td>\n",
       "      <td>15.6</td>\n",
       "      <td>14.9</td>\n",
       "      <td>14.7</td>\n",
       "      <td>15.1</td>\n",
       "      <td>15.4</td>\n",
       "    </tr>\n",
       "  </tbody>\n",
       "</table>\n",
       "<p>5 rows × 24 columns</p>\n",
       "</div>"
      ],
      "text/plain": [
       "               az         el       focus      tiltx    tilty      transx  \\\n",
       "36461  276.000213  59.400210 -966.852965 -21.421051  22.9531  -19.021927   \n",
       "36462  279.203715  50.477263 -737.762965  32.278949  45.8131  239.398073   \n",
       "36463  279.412337  49.998156 -711.442965  24.378949  51.8131  173.108073   \n",
       "36464  279.625336  49.507966 -697.182965  23.138949  55.6931  132.428073   \n",
       "36465  276.988371  76.555189 -343.372965 -15.531051  -3.6869  509.338073   \n",
       "\n",
       "           transy           mjd  hour  cell_e_series_backplate_C  ...  \\\n",
       "36461 -124.842291  58645.239423     5                    15.8284  ...   \n",
       "36462  160.857709  58645.268485     6                    15.2279  ...   \n",
       "36463  143.697709  58645.270065     6                    15.2279  ...   \n",
       "36464  138.737709  58645.271671     6                    15.1778  ...   \n",
       "36465 -408.702291  58645.360822     8                    14.7583  ...   \n",
       "\n",
       "       cell_e_series_midplate_C  cell_e_series_outside_ambient_C  \\\n",
       "36461                  15.67530                         14.01390   \n",
       "36462                  15.04230                         14.00340   \n",
       "36463                  15.04230                         14.00340   \n",
       "36464                  15.00140                         14.04410   \n",
       "36465                  14.81685                         15.56545   \n",
       "\n",
       "       yankee_temperature  temptrax1_probe2  temptrax1_probe3  \\\n",
       "36461             15.2530              22.1              21.1   \n",
       "36462             13.9670              18.7              18.2   \n",
       "36463             13.9670              18.7              18.2   \n",
       "36464             14.0725              18.3              18.0   \n",
       "36465             15.2990              14.8              15.4   \n",
       "\n",
       "       temptrax1_probe4  temptrax1_probe6  temptrax3_probe10  \\\n",
       "36461              19.2              16.8               20.8   \n",
       "36462              17.2              14.4               16.6   \n",
       "36463              17.2              14.4               16.6   \n",
       "36464              17.1              14.3               16.3   \n",
       "36465              15.6              14.9               14.7   \n",
       "\n",
       "       temptrax3_probe11  temptrax3_probe12  \n",
       "36461               20.8               19.1  \n",
       "36462               16.3               16.7  \n",
       "36463               16.3               16.7  \n",
       "36464               16.2               16.6  \n",
       "36465               15.1               15.4  \n",
       "\n",
       "[5 rows x 24 columns]"
      ]
     },
     "execution_count": 11,
     "metadata": {},
     "output_type": "execute_result"
    }
   ],
   "source": [
    "datasets['f9'].tail()"
   ]
  },
  {
   "cell_type": "code",
   "execution_count": 27,
   "metadata": {},
   "outputs": [
    {
     "data": {
      "text/plain": [
       "239"
      ]
     },
     "execution_count": 27,
     "metadata": {},
     "output_type": "execute_result"
    }
   ],
   "source": [
    "len(datasets['f9'])"
   ]
  },
  {
   "cell_type": "code",
   "execution_count": 84,
   "metadata": {},
   "outputs": [],
   "source": [
    "plt.close('all')"
   ]
  },
  {
   "cell_type": "code",
   "execution_count": 35,
   "metadata": {},
   "outputs": [
    {
     "data": {
      "text/plain": [
       "96       57763.213183\n",
       "97       57763.215058\n",
       "98       57763.216366\n",
       "99       57763.216736\n",
       "100      57763.217118\n",
       "             ...     \n",
       "42318    58739.484676\n",
       "42319    58742.281065\n",
       "42320    58742.281910\n",
       "42321    58742.422199\n",
       "42322    58742.423565\n",
       "Name: mjd, Length: 11438, dtype: float64"
      ]
     },
     "execution_count": 35,
     "metadata": {},
     "output_type": "execute_result"
    }
   ],
   "source": [
    "datasets['mmirs']['mjd']"
   ]
  },
  {
   "cell_type": "code",
   "execution_count": null,
   "metadata": {},
   "outputs": [],
   "source": []
  }
 ],
 "metadata": {
  "kernelspec": {
   "display_name": "Python 3",
   "language": "python",
   "name": "python3"
  },
  "language_info": {
   "codemirror_mode": {
    "name": "ipython",
    "version": 3
   },
   "file_extension": ".py",
   "mimetype": "text/x-python",
   "name": "python",
   "nbconvert_exporter": "python",
   "pygments_lexer": "ipython3",
   "version": "3.7.4"
  }
 },
 "nbformat": 4,
 "nbformat_minor": 4
}
