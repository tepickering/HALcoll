{
 "cells": [
  {
   "cell_type": "code",
   "execution_count": 12,
   "metadata": {},
   "outputs": [],
   "source": [
    "from datetime import datetime\n",
    "\n",
    "import time\n",
    "import os\n",
    "import sys\n",
    "import itertools\n",
    "from pathlib import Path\n",
    "\n",
    "import numpy as np\n",
    "from scipy.stats import lognorm\n",
    "import pandas as pd\n",
    "\n",
    "from astropy import stats\n",
    "from astropy.io import fits\n",
    "from astropy.time import Time\n",
    "from astropy.modeling import models, fitting\n",
    "import astropy.units as u\n",
    "\n",
    "import matplotlib\n",
    "#matplotlib.use('nbagg')\n",
    "import matplotlib.pyplot as plt\n",
    "from mpl_toolkits.mplot3d import Axes3D\n",
    "matplotlib.rcParams.update({'font.size': 8})\n",
    "\n",
    "import seaborn as sns\n",
    "\n",
    "np.random.seed(42)"
   ]
  },
  {
   "cell_type": "code",
   "execution_count": 2,
   "metadata": {},
   "outputs": [],
   "source": [
    "%load_ext autoreload\n",
    "%autoreload 2\n",
    "%matplotlib widget"
   ]
  },
  {
   "cell_type": "code",
   "execution_count": 3,
   "metadata": {},
   "outputs": [],
   "source": [
    "def load_wfs_data(files=[f\"../raw_data/2018_2019_wfs_loose.csv\"]):\n",
    "    # load data and make some subsets for each wfs for inspection later\n",
    "    dfs = []\n",
    "    for f in files:\n",
    "        dfs.append(pd.read_csv(f))\n",
    "    data = pd.concat(dfs)\n",
    "    data['ut'] = pd.to_datetime(data.ut)\n",
    "    data['az'][data['az'] < 0.] += 360.\n",
    "\n",
    "    f9 = data[(data['wfs'] == 'newf9') | (data['wfs'] == 'oldf9')]\n",
    "    f5 = data[data['wfs'] == 'f5']\n",
    "    mmirs = data[data['wfs'] == 'mmirs']\n",
    "    bino = data[data['wfs'] == 'binospec']\n",
    "\n",
    "    # wrangle the times to add colums for mjd to look for trends over time and hour to look for nightly trends\n",
    "    raw_times = data['time']\n",
    "    times = Time(raw_times.values.tolist(), format='isot', scale='utc')\n",
    "    mjd = times.mjd\n",
    "    data['mjd'] = mjd.tolist()\n",
    "    data['hour'] = data['ut'].dt.hour\n",
    "\n",
    "    e_series = pd.read_csv(\"../halcoll/data/halcoll_temps.csv\")\n",
    "\n",
    "    fixed = data.drop(columns=['ut']).set_index(pd.DatetimeIndex(data['time'], name='ut'))\n",
    "\n",
    "    e_series = e_series.set_index(pd.DatetimeIndex(e_series['ts'], name='ut').tz_localize('MST').tz_convert(None)).drop(columns=['ts'])\n",
    "\n",
    "    merged = pd.merge_asof(fixed.sort_index(), e_series, on='ut')\n",
    "\n",
    "    # trim out columns not relevant to training\n",
    "    dropped_cols = [\n",
    "        'ut', 'time', 'airmass', 'cc_x_err', 'cc_y_err', 'chamt', 'osst',\n",
    "        'outt', 'exptime', 'file', 'focerr', 'fwhm', 'raw_seeing', 'residual_rms',\n",
    "        'seeing', 'wavefront_rms', 'xcen', 'ycen', 'comaerr'\n",
    "    ]\n",
    "    trimmed = merged.drop(columns=dropped_cols)\n",
    "    trimmed = trimmed.dropna()\n",
    "    trimmed['m1temp'] = trimmed[trimmed.columns[trimmed.columns.str.contains(pat='plate')]].mean(axis=1)\n",
    "    trimmed['osstemp'] = trimmed[trimmed.columns[trimmed.columns.str.contains(pat='temptrax')]].mean(axis=1)\n",
    "    trimmed['meantemp'] = (trimmed['m1temp'] + trimmed['osstemp']) / 2.\n",
    "    \n",
    "    return trimmed\n",
    "\n",
    "def norm_dataset(x, s):\n",
    "    return (x - s['mean']) / s['std']"
   ]
  },
  {
   "cell_type": "code",
   "execution_count": 4,
   "metadata": {},
   "outputs": [
    {
     "name": "stderr",
     "output_type": "stream",
     "text": [
      "/usr/local/lib/python3.7/site-packages/ipykernel_launcher.py:8: SettingWithCopyWarning: \n",
      "A value is trying to be set on a copy of a slice from a DataFrame\n",
      "\n",
      "See the caveats in the documentation: http://pandas.pydata.org/pandas-docs/stable/user_guide/indexing.html#returning-a-view-versus-a-copy\n",
      "  \n"
     ]
    }
   ],
   "source": [
    "labels = ['focus', 'tiltx', 'tilty', 'transx', 'transy']\n",
    "trimmed = load_wfs_data(files=[\"../raw_data/2018_2019_wfs_loose.csv\"])\n",
    "\n",
    "# split data set up into three training sets: f9, mmirs, and f5/bino. these sets correspond to the three optical configurations\n",
    "# we use: f/9 and no corrector, f/5 with no corrector (mmirs), and f/5 with spectroscopic corrector (f5/bino).\n",
    "datasets = {}\n",
    "wfs = trimmed.pop('wfs')\n",
    "datasets['f9'] = trimmed[(wfs == 'newf9') | (wfs == 'oldf9')]\n",
    "datasets['mmirs'] = trimmed[wfs == 'mmirs']\n",
    "datasets['f5'] = trimmed[(wfs == 'f5') | (wfs == 'binospec')]\n",
    "\n",
    "# the large range in offsets is messing up the training. so normalize the hexapod coords to their means\n",
    "means = {}\n",
    "train_datasets = {}\n",
    "test_datasets = {}\n",
    "train_labels = {}\n",
    "test_labels = {}\n",
    "train_stats = {}\n",
    "normed_train_data = {}\n",
    "normed_test_data = {}\n",
    "for w in datasets:\n",
    "    means[w] = {}\n",
    "    for l in labels:\n",
    "        means[w][l] = datasets[w][l].mean()\n",
    "        # datasets[w][l] -= means[w][l]\n",
    "\n",
    "    train_datasets[w] = datasets[w].sample(frac=0.75, random_state=0)\n",
    "    test_datasets[w] = datasets[w].drop(train_datasets[w].index)\n",
    "    train_stats[w] = train_datasets[w].describe()\n",
    "    train_stats[w] = train_stats[w].drop(columns=labels)\n",
    "    train_stats[w] = train_stats[w].transpose()\n",
    "    \n",
    "    train_labels[w] = {}\n",
    "    test_labels[w] = {}\n",
    "    for l in labels:\n",
    "        train_labels[w][l] = train_datasets[w].pop(l)\n",
    "        test_labels[w][l] = test_datasets[w].pop(l)\n",
    "        \n",
    "    normed_train_data[w] = norm_dataset(train_datasets[w], train_stats[w])\n",
    "    normed_test_data[w] = norm_dataset(test_datasets[w], train_stats[w])"
   ]
  },
  {
   "cell_type": "code",
   "execution_count": 5,
   "metadata": {},
   "outputs": [
    {
     "data": {
      "text/plain": [
       "Index(['az', 'el', 'focus', 'tiltx', 'tilty', 'transx', 'transy', 'mjd',\n",
       "       'hour', 'cell_e_series_backplate_C', 'cell_e_series_chamber_ambient_C',\n",
       "       'cell_e_series_frontplate_C', 'cell_e_series_in_front_of_primary_C',\n",
       "       'cell_e_series_lower_plenum_C', 'cell_e_series_midplate_C',\n",
       "       'cell_e_series_outside_ambient_C', 'yankee_temperature',\n",
       "       'temptrax1_probe2', 'temptrax1_probe3', 'temptrax1_probe4',\n",
       "       'temptrax1_probe6', 'temptrax3_probe10', 'temptrax3_probe11',\n",
       "       'temptrax3_probe12', 'm1temp', 'osstemp', 'meantemp'],\n",
       "      dtype='object')"
      ]
     },
     "execution_count": 5,
     "metadata": {},
     "output_type": "execute_result"
    }
   ],
   "source": [
    "datasets['f9'].columns"
   ]
  },
  {
   "cell_type": "code",
   "execution_count": 6,
   "metadata": {},
   "outputs": [],
   "source": [
    "data = datasets['f5'].copy()"
   ]
  },
  {
   "cell_type": "code",
   "execution_count": 7,
   "metadata": {},
   "outputs": [
    {
     "data": {
      "text/plain": [
       "Index(['az', 'el', 'focus', 'tiltx', 'tilty', 'transx', 'transy', 'mjd',\n",
       "       'hour', 'cell_e_series_backplate_C', 'cell_e_series_chamber_ambient_C',\n",
       "       'cell_e_series_frontplate_C', 'cell_e_series_in_front_of_primary_C',\n",
       "       'cell_e_series_lower_plenum_C', 'cell_e_series_midplate_C',\n",
       "       'cell_e_series_outside_ambient_C', 'yankee_temperature',\n",
       "       'temptrax1_probe2', 'temptrax1_probe3', 'temptrax1_probe4',\n",
       "       'temptrax1_probe6', 'temptrax3_probe10', 'temptrax3_probe11',\n",
       "       'temptrax3_probe12', 'm1temp', 'osstemp', 'meantemp'],\n",
       "      dtype='object')"
      ]
     },
     "execution_count": 7,
     "metadata": {},
     "output_type": "execute_result"
    }
   ],
   "source": [
    "data.columns"
   ]
  },
  {
   "cell_type": "code",
   "execution_count": 8,
   "metadata": {},
   "outputs": [],
   "source": [
    "fixed = {\n",
    "    \"c0_0\": False,\n",
    "    \"c1_0\": False,\n",
    "    \"c2_0\": False,\n",
    "    \"c0_1\": False,\n",
    "    \"c0_2\": True,\n",
    "    \"c1_1\": True\n",
    "}\n",
    "model = models.Polynomial2D(degree=2, fixed=fixed)\n",
    "fitter = fitting.LevMarLSQFitter()"
   ]
  },
  {
   "cell_type": "code",
   "execution_count": 9,
   "metadata": {},
   "outputs": [
    {
     "name": "stderr",
     "output_type": "stream",
     "text": [
      "WARNING: Model is linear in parameters; consider using linear fitting methods. [astropy.modeling.fitting]\n"
     ]
    }
   ],
   "source": [
    "p = fitter(model, data['el'], data['meantemp'], data['focus'])"
   ]
  },
  {
   "cell_type": "code",
   "execution_count": 10,
   "metadata": {},
   "outputs": [
    {
     "data": {
      "text/plain": [
       "<Polynomial2D(2, c0_0=13780.81126851, c1_0=30.62423993, c2_0=-0.19276644, c0_1=-36.48238129, c0_2=0., c1_1=0.)>"
      ]
     },
     "execution_count": 10,
     "metadata": {},
     "output_type": "execute_result"
    }
   ],
   "source": [
    "p"
   ]
  },
  {
   "cell_type": "code",
   "execution_count": 15,
   "metadata": {},
   "outputs": [
    {
     "data": {
      "application/vnd.jupyter.widget-view+json": {
       "model_id": "663cba05735e41a5b40b21c877bc8fc9",
       "version_major": 2,
       "version_minor": 0
      },
      "text/plain": [
       "Canvas(toolbar=Toolbar(toolitems=[('Home', 'Reset original view', 'home', 'home'), ('Back', 'Back to previous …"
      ]
     },
     "metadata": {},
     "output_type": "display_data"
    }
   ],
   "source": [
    "el_range = np.arange(0, 90, 0.2)\n",
    "t_range = np.arange(data['meantemp'].min(), data['meantemp'].max(), 0.1)\n",
    "resid = data['focus'] - p(data['el'], data['meantemp'])\n",
    "Xs, Ys = np.meshgrid(el_range, t_range)\n",
    "fig = plt.figure()\n",
    "plt.tight_layout()\n",
    "ax = fig.add_subplot(111, projection='3d')\n",
    "ax.scatter(data['el'], data['meantemp'], data['focus'])\n",
    "ax.plot_surface(Xs, Ys, p(Xs, Ys))\n",
    "ax.set_xlabel(\"Elevation (deg)\")\n",
    "ax.set_ylabel(\"Telescope Temp ($^{\\circ}$C)\")\n",
    "ax.set_zlabel(\"Focus ($\\mu$m)\")\n",
    "plt.savefig(\"f5.pdf\")\n",
    "plt.show()"
   ]
  },
  {
   "cell_type": "code",
   "execution_count": 52,
   "metadata": {},
   "outputs": [],
   "source": [
    "plt.close('all')"
   ]
  },
  {
   "cell_type": "code",
   "execution_count": 16,
   "metadata": {},
   "outputs": [
    {
     "data": {
      "text/plain": [
       "167.7678167280546"
      ]
     },
     "execution_count": 16,
     "metadata": {},
     "output_type": "execute_result"
    }
   ],
   "source": [
    "resid.std()"
   ]
  },
  {
   "cell_type": "code",
   "execution_count": 17,
   "metadata": {},
   "outputs": [
    {
     "data": {
      "application/vnd.jupyter.widget-view+json": {
       "model_id": "bc6bcd6b21cc4eeb93028299b21a98f1",
       "version_major": 2,
       "version_minor": 0
      },
      "text/plain": [
       "Canvas(toolbar=Toolbar(toolitems=[('Home', 'Reset original view', 'home', 'home'), ('Back', 'Back to previous …"
      ]
     },
     "metadata": {},
     "output_type": "display_data"
    }
   ],
   "source": [
    "t_diff = data['osstemp'] - data['m1temp']\n",
    "fig = plt.figure()\n",
    "ax = fig.add_subplot(111)\n",
    "ax.scatter(resid, t_diff)\n",
    "ax.set_xlabel(\"Focus Residual ($\\mu$m)\")\n",
    "ax.set_ylabel(\"$T_{OSS} - T_{M1}$ ($^{\\circ}C$)\")\n",
    "plt.show()"
   ]
  },
  {
   "cell_type": "code",
   "execution_count": null,
   "metadata": {},
   "outputs": [],
   "source": []
  }
 ],
 "metadata": {
  "kernelspec": {
   "display_name": "Python 3",
   "language": "python",
   "name": "python3"
  },
  "language_info": {
   "codemirror_mode": {
    "name": "ipython",
    "version": 3
   },
   "file_extension": ".py",
   "mimetype": "text/x-python",
   "name": "python",
   "nbconvert_exporter": "python",
   "pygments_lexer": "ipython3",
   "version": "3.7.4"
  }
 },
 "nbformat": 4,
 "nbformat_minor": 4
}
